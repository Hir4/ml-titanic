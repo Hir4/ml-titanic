{
  "cells": [
    {
      "attachments": {},
      "cell_type": "markdown",
      "metadata": {},
      "source": [
        "[Click here to access the notebook](https://colab.research.google.com/drive/1HAcBEv4BDgtpuDHkvD3kVQQyiAiU3-hf?usp=sharing)"
      ]
    },
    {
      "cell_type": "markdown",
      "metadata": {
        "id": "yq9D1NNJq4mQ"
      },
      "source": [
        "# Importing libraries"
      ]
    },
    {
      "cell_type": "code",
      "execution_count": null,
      "metadata": {
        "id": "ANI0xuURIovY"
      },
      "outputs": [],
      "source": [
        "import matplotlib.pyplot as plt\n",
        "import numpy as np\n",
        "import pandas as pd\n",
        "import seaborn as sns\n",
        "\n",
        "from sklearn.dummy import DummyClassifier\n",
        "from sklearn.preprocessing import StandardScaler\n",
        "from sklearn.svm import LinearSVC, SVC\n",
        "from sklearn.metrics import accuracy_score\n",
        "from sklearn.model_selection import train_test_split\n",
        "\n",
        "SEED = 5\n",
        "np.random.seed(SEED)"
      ]
    },
    {
      "cell_type": "markdown",
      "metadata": {
        "id": "8XHs_AqIjqYU"
      },
      "source": [
        "# Training Model"
      ]
    },
    {
      "cell_type": "code",
      "execution_count": null,
      "metadata": {
        "colab": {
          "base_uri": "https://localhost:8080/"
        },
        "id": "YFa1DOJiJ6-m",
        "outputId": "e18c30d7-8dc9-4998-f7b6-84a74e6f99e4"
      },
      "outputs": [
        {
          "name": "stdout",
          "output_type": "stream",
          "text": [
            "Training with 668 and testing with 223\n"
          ]
        }
      ],
      "source": [
        "change_sex = {\n",
        "    \"male\": 0,\n",
        "    \"female\": 1\n",
        "}\n",
        "\n",
        "train_df = pd.read_csv(\"titanic_challenge/train.csv\")\n",
        "\n",
        "train_df[\"Sex\"] = train_df[\"Sex\"].map(change_sex)\n",
        "train_df[\"Age\"] = train_df[\"Age\"].fillna(0)\n",
        "train_df[\"Fare\"] = train_df[\"Fare\"].fillna(0)\n",
        "\n",
        "train_df_x = train_df[[\"PassengerId\", \"Sex\", \"Age\", \"Pclass\", \"SibSp\", \"Parch\"]]\n",
        "train_df_y = train_df[\"Survived\"]\n",
        "\n",
        "raw_train_x, raw_test_x, train_y, test_y = train_test_split(train_df_x, train_df_y, stratify=train_df_y, test_size=0.25)\n",
        "\n",
        "print(f\"Training with {len(raw_train_x)} and testing with {len(raw_test_x)}\")"
      ]
    },
    {
      "cell_type": "code",
      "execution_count": null,
      "metadata": {
        "colab": {
          "base_uri": "https://localhost:8080/"
        },
        "id": "d6kEJJwBMCRx",
        "outputId": "3fcc9e9b-9dbe-4500-8ec9-627e4c4b06f8"
      },
      "outputs": [
        {
          "name": "stdout",
          "output_type": "stream",
          "text": [
            "Baseline dummy accuracy was 61.43%\n",
            "Accuracy was 83.41%\n"
          ]
        }
      ],
      "source": [
        "# Baseline\n",
        "dummy = DummyClassifier()\n",
        "dummy.fit(raw_train_x, train_y)\n",
        "dummy_accuracy = dummy.score(raw_test_x, test_y)\n",
        "print(f\"Baseline dummy accuracy was {dummy_accuracy:.2%}\")\n",
        "\n",
        "# Model training\n",
        "scaler = StandardScaler()\n",
        "scaler.fit(raw_train_x)\n",
        "train_x = scaler.transform(raw_train_x)\n",
        "test_x = scaler.transform(raw_test_x)\n",
        "\n",
        "model = SVC()\n",
        "model.fit(train_x, train_y)\n",
        "predict = model.predict(test_x)\n",
        "accuracy = accuracy_score(test_y, predict)\n",
        "print(f\"Accuracy was {accuracy:.2%}\")"
      ]
    },
    {
      "cell_type": "markdown",
      "metadata": {
        "id": "Pw5TH6Efjmcp"
      },
      "source": [
        "# Testing Model"
      ]
    },
    {
      "cell_type": "code",
      "execution_count": null,
      "metadata": {
        "id": "qJabDTlsjuds"
      },
      "outputs": [],
      "source": [
        "change_sex = {\n",
        "    \"male\": 0,\n",
        "    \"female\": 1\n",
        "}\n",
        "\n",
        "test_df = pd.read_csv(\"titanic_challenge/test.csv\")\n",
        "\n",
        "test_df[\"Sex\"] = test_df[\"Sex\"].map(change_sex)\n",
        "test_df[\"Age\"] = test_df[\"Age\"].fillna(0)\n",
        "test_df[\"Fare\"] = test_df[\"Fare\"].fillna(0)\n",
        "\n",
        "test_df_x = test_df[[\"PassengerId\", \"Sex\", \"Age\", \"Pclass\", \"SibSp\", \"Parch\"]].sort_values(by=[\"PassengerId\"])\n",
        "test_df_y = pd.read_csv(\"titanic_challenge/gender_submission.csv\").sort_values(by=[\"PassengerId\"])"
      ]
    },
    {
      "cell_type": "code",
      "execution_count": null,
      "metadata": {
        "colab": {
          "base_uri": "https://localhost:8080/"
        },
        "id": "sLsUJ_BkkYlu",
        "outputId": "f23d21cc-f229-4715-9bad-961e94c0e406"
      },
      "outputs": [
        {
          "name": "stdout",
          "output_type": "stream",
          "text": [
            "Accuracy Test was 81.82%\n"
          ]
        }
      ],
      "source": [
        "new_test_x = scaler.transform(test_df_x)\n",
        "predict_test = model.predict(new_test_x)\n",
        "\n",
        "predict_test = pd.DataFrame(predict_test, columns=[\"Survived\"])\n",
        "frames = [test_df_x, predict_test]\n",
        "df_titanic_results = pd.concat(frames, axis=1)\n",
        "\n",
        "accuracy_test = accuracy_score(test_df_y[\"Survived\"], df_titanic_results[\"Survived\"])\n",
        "print(f\"Accuracy Test was {accuracy_test:.2%}\")"
      ]
    },
    {
      "cell_type": "markdown",
      "metadata": {
        "id": "fHhZZcbIpqQJ"
      },
      "source": [
        "# Set DataFrame to Analysis"
      ]
    },
    {
      "cell_type": "code",
      "execution_count": null,
      "metadata": {
        "id": "365zSaclpuWS"
      },
      "outputs": [],
      "source": [
        "change_survived = {\n",
        "    0: \"No\",\n",
        "    1: \"Yes\"\n",
        "}\n",
        "\n",
        "change_sex = {\n",
        "    0: \"male\",\n",
        "    1: \"female\"\n",
        "}\n",
        "\n",
        "change_class = {\n",
        "    1: \"First\",\n",
        "    2: \"Second\",\n",
        "    3: \"Third\"\n",
        "}\n",
        "\n",
        "df_titanic_results[\"Survived\"] = df_titanic_results[\"Survived\"].map(change_survived)\n",
        "df_titanic_results[\"Sex\"] = df_titanic_results[\"Sex\"].map(change_sex)\n",
        "df_titanic_results[\"Pclass\"] = df_titanic_results[\"Pclass\"].map(change_class)"
      ]
    },
    {
      "cell_type": "markdown",
      "metadata": {
        "id": "iZDzt9UlCkp4"
      },
      "source": [
        "# Percentage to survive per Type"
      ]
    },
    {
      "cell_type": "code",
      "execution_count": null,
      "metadata": {
        "id": "qlQ2FVE_AYzh"
      },
      "outputs": [],
      "source": [
        "childrens_alive = [(int(age), sex, alive) for sex, age, alive in zip(df_titanic_results[\"Sex\"],df_titanic_results[\"Age\"], df_titanic_results[\"Survived\"]) if age > 1 and age <= 13 and alive == \"Yes\"]\n",
        "childrens_dead = [(int(age), sex, alive) for sex, age, alive in zip(df_titanic_results[\"Sex\"],df_titanic_results[\"Age\"], df_titanic_results[\"Survived\"]) if age > 1 and age <= 13 and alive == \"No\"]\n",
        "\n",
        "teenagers_alive = [(int(age), sex, alive) for sex, age, alive in zip(df_titanic_results[\"Sex\"],df_titanic_results[\"Age\"], df_titanic_results[\"Survived\"]) if age > 13 and age <= 20 and alive == \"Yes\"] \n",
        "teenagers_dead = [(int(age), sex, alive) for sex, age, alive in zip(df_titanic_results[\"Sex\"],df_titanic_results[\"Age\"], df_titanic_results[\"Survived\"]) if age > 13 and age <= 20 and alive == \"No\"] \n",
        "\n",
        "adults_alive = [(int(age), sex, alive) for sex, age, alive in zip(df_titanic_results[\"Sex\"],df_titanic_results[\"Age\"], df_titanic_results[\"Survived\"]) if age > 20 and age <= 60 and alive == \"Yes\"] \n",
        "adults_dead = [(int(age), sex, alive) for sex, age, alive in zip(df_titanic_results[\"Sex\"],df_titanic_results[\"Age\"], df_titanic_results[\"Survived\"]) if age > 20 and age <= 60 and alive == \"No\"] \n",
        "\n",
        "old_alive = [(int(age), sex, alive) for sex, age, alive in zip(df_titanic_results[\"Sex\"],df_titanic_results[\"Age\"], df_titanic_results[\"Survived\"]) if age > 60 and alive == \"Yes\"] \n",
        "old_dead = [(int(age), sex, alive) for sex, age, alive in zip(df_titanic_results[\"Sex\"],df_titanic_results[\"Age\"], df_titanic_results[\"Survived\"]) if age > 60 and alive == \"No\"] "
      ]
    },
    {
      "cell_type": "code",
      "execution_count": null,
      "metadata": {
        "id": "ys_z9pCI8IZ2"
      },
      "outputs": [],
      "source": [
        "# All Sex\n",
        "total_childrens = (len(childrens_dead)+len(childrens_alive))\n",
        "total_teenagers = (len(teenagers_dead)+len(teenagers_alive))\n",
        "total_adults = (len(adults_dead)+len(adults_alive))\n",
        "total_olds = (len(old_dead)+len(old_alive))\n",
        "\n",
        "percent_children = round((len(childrens_alive)/total_childrens) * 100, 2)\n",
        "percent_teenager = round((len(teenagers_alive)/total_teenagers) * 100, 2)\n",
        "percent_adult = round((len(adults_alive)/total_adults) * 100, 2)\n",
        "percent_old = round((len(old_alive)/total_olds) * 100, 2)\n",
        "\n",
        "df_percentual_to_survive_per_type = pd.DataFrame([(\"Children\", percent_children), (\"Teenager\", percent_teenager), (\"Adult\", percent_adult), (\"Old\", percent_old)], columns=[\"Type\", \"Percentage\"])"
      ]
    },
    {
      "cell_type": "code",
      "execution_count": null,
      "metadata": {
        "colab": {
          "base_uri": "https://localhost:8080/",
          "height": 296
        },
        "id": "4Ej-BUDbBbkX",
        "outputId": "2e566dc8-09b9-49a9-8153-01a674b0e66e"
      },
      "outputs": [
        {
          "data": {
            "text/plain": [
              "<matplotlib.axes._subplots.AxesSubplot at 0x7fb059a35a00>"
            ]
          },
          "execution_count": 129,
          "metadata": {},
          "output_type": "execute_result"
        },
        {
          "data": {
            "image/png": "[encoded data removed]",
            "text/plain": [
              "<Figure size 432x288 with 1 Axes>"
            ]
          },
          "metadata": {
            "needs_background": "light"
          },
          "output_type": "display_data"
        }
      ],
      "source": [
        "sns.barplot(data=df_percentual_to_survive_per_type, x=\"Type\", y=\"Percentage\")"
      ]
    },
    {
      "cell_type": "markdown",
      "metadata": {
        "id": "99MLkRaoweu8"
      },
      "source": [
        "# Percentage to survive by Type"
      ]
    },
    {
      "cell_type": "code",
      "execution_count": null,
      "metadata": {
        "id": "0IhtdhfAv1gt"
      },
      "outputs": [],
      "source": [
        "total = total_childrens + total_teenagers + total_adults + total_olds\n",
        "\n",
        "percent_children = round((len(childrens_alive)/total) * 100, 2)\n",
        "percent_teenager = round((len(teenagers_alive)/total) * 100, 2)\n",
        "percent_adult = round((len(adults_alive)/total) * 100, 2)\n",
        "percent_old = round((len(old_alive)/total) * 100, 2)\n",
        "\n",
        "df_percentual_to_survive_total = pd.DataFrame([(\"Children\", percent_children), (\"Teenager\", percent_teenager), (\"Adult\", percent_adult), (\"Old\", percent_old)], columns=[\"Type\", \"Percentage\"])"
      ]
    },
    {
      "cell_type": "code",
      "execution_count": null,
      "metadata": {
        "colab": {
          "base_uri": "https://localhost:8080/",
          "height": 296
        },
        "id": "48QvrQk3wwuJ",
        "outputId": "9852f074-bf80-42cf-edd4-668a7dff3e8c"
      },
      "outputs": [
        {
          "data": {
            "text/plain": [
              "<matplotlib.axes._subplots.AxesSubplot at 0x7fb059980070>"
            ]
          },
          "execution_count": 133,
          "metadata": {},
          "output_type": "execute_result"
        },
        {
          "data": {
            "image/png": "[encoded data removed]",
            "text/plain": [
              "<Figure size 432x288 with 1 Axes>"
            ]
          },
          "metadata": {
            "needs_background": "light"
          },
          "output_type": "display_data"
        }
      ],
      "source": [
        "sns.barplot(data=df_percentual_to_survive_total, x=\"Type\", y=\"Percentage\")"
      ]
    },
    {
      "cell_type": "markdown",
      "metadata": {
        "id": "u9KH95S0KrWi"
      },
      "source": [
        "# Survived by Sex"
      ]
    },
    {
      "cell_type": "code",
      "execution_count": null,
      "metadata": {
        "id": "ubXVl5QdI__I"
      },
      "outputs": [],
      "source": [
        "childrens_list = childrens_alive + childrens_dead\n",
        "teenager_list = teenagers_alive + teenagers_dead\n",
        "adult_list = adults_alive + adults_dead\n",
        "old_list = old_alive + old_dead\n",
        "\n",
        "percentage_sex_frames = [pd.DataFrame(childrens_list, columns=[\"Age\", \"Sex\", \"Survived\"]), pd.DataFrame(teenager_list, columns=[\"Age\", \"Sex\", \"Survived\"]), pd.DataFrame(adult_list, columns=[\"Age\", \"Sex\", \"Survived\"]), pd.DataFrame(old_list, columns=[\"Age\", \"Sex\", \"Survived\"])]\n",
        "df_percentage_sex = pd.concat(percentage_sex_frames, axis=0)"
      ]
    },
    {
      "cell_type": "code",
      "execution_count": null,
      "metadata": {
        "colab": {
          "base_uri": "https://localhost:8080/",
          "height": 296
        },
        "id": "3YcugkQQJoGf",
        "outputId": "9d57a7e5-2f1b-42a3-d1af-b9e0648674d1"
      },
      "outputs": [
        {
          "data": {
            "text/plain": [
              "<matplotlib.axes._subplots.AxesSubplot at 0x7fb05ea75760>"
            ]
          },
          "execution_count": 113,
          "metadata": {},
          "output_type": "execute_result"
        },
        {
          "data": {
            "image/png": "[encoded data removed]",
            "text/plain": [
              "<Figure size 432x288 with 1 Axes>"
            ]
          },
          "metadata": {
            "needs_background": "light"
          },
          "output_type": "display_data"
        }
      ],
      "source": [
        "sns.barplot(data=df_percentage_sex, x=\"Age\", y=\"Sex\", hue=\"Survived\")"
      ]
    },
    {
      "cell_type": "markdown",
      "metadata": {
        "id": "3JG1XOjhHuA3"
      },
      "source": [
        "# How much person by sex and type"
      ]
    },
    {
      "cell_type": "code",
      "execution_count": null,
      "metadata": {
        "id": "19toU1G08g3O"
      },
      "outputs": [],
      "source": [
        "percentage_sex_frames = [pd.DataFrame(childrens_list, columns=[\"Age\", \"Sex\", \"Survived\"]), pd.DataFrame(teenager_list, columns=[\"Age\", \"Sex\", \"Survived\"]), pd.DataFrame(adult_list, columns=[\"Age\", \"Sex\", \"Survived\"]), pd.DataFrame(old_list, columns=[\"Age\", \"Sex\", \"Survived\"])]\n",
        "df_percentage_sex = pd.concat(percentage_sex_frames, axis=0)\n",
        "\n",
        "new_age_column = []\n",
        "for age in df_percentage_sex[\"Age\"]:\n",
        "  if age > 1 and age <= 13:\n",
        "    new_age_column.append(\"Children\")\n",
        "  elif age > 13 and age <= 20:\n",
        "    new_age_column.append(\"Teenager\")\n",
        "  elif age > 20 and age <= 60:\n",
        "    new_age_column.append(\"Adult\")\n",
        "  elif age > 60:\n",
        "    new_age_column.append(\"Old\")\n",
        "\n",
        "df_percentage_sex[\"Type\"] = new_age_column"
      ]
    },
    {
      "cell_type": "code",
      "execution_count": null,
      "metadata": {
        "colab": {
          "base_uri": "https://localhost:8080/",
          "height": 296
        },
        "id": "OdzgTLBjCPUT",
        "outputId": "cbaf20e9-156b-41e8-ec8f-edaea43f8773"
      },
      "outputs": [
        {
          "data": {
            "text/plain": [
              "<matplotlib.axes._subplots.AxesSubplot at 0x7fb05e550e50>"
            ]
          },
          "execution_count": 115,
          "metadata": {},
          "output_type": "execute_result"
        },
        {
          "data": {
            "image/png": "[encoded data removed]",
            "text/plain": [
              "<Figure size 432x288 with 1 Axes>"
            ]
          },
          "metadata": {
            "needs_background": "light"
          },
          "output_type": "display_data"
        }
      ],
      "source": [
        "sns.countplot(data=df_percentage_sex, x=\"Sex\", hue=\"Type\")"
      ]
    },
    {
      "cell_type": "markdown",
      "metadata": {
        "id": "fFvsUZ5fuVZ4"
      },
      "source": [
        "# Survived by Class"
      ]
    },
    {
      "cell_type": "code",
      "execution_count": null,
      "metadata": {
        "colab": {
          "base_uri": "https://localhost:8080/",
          "height": 296
        },
        "id": "aNxLaqxEfP_d",
        "outputId": "aad38b97-dfcb-4123-9dcb-96ccdc365027"
      },
      "outputs": [
        {
          "data": {
            "text/plain": [
              "<matplotlib.axes._subplots.AxesSubplot at 0x7fb05e541880>"
            ]
          },
          "execution_count": 116,
          "metadata": {},
          "output_type": "execute_result"
        },
        {
          "data": {
            "image/png": "[encoded data removed]",
            "text/plain": [
              "<Figure size 432x288 with 1 Axes>"
            ]
          },
          "metadata": {
            "needs_background": "light"
          },
          "output_type": "display_data"
        }
      ],
      "source": [
        "sns.countplot(data=df_titanic_results.sort_values(by=[\"Pclass\"]), x=\"Pclass\", hue=\"Survived\")"
      ]
    },
    {
      "cell_type": "markdown",
      "metadata": {
        "id": "dxybz52tE6kU"
      },
      "source": [
        "# Survived by family relations"
      ]
    },
    {
      "cell_type": "code",
      "execution_count": null,
      "metadata": {
        "colab": {
          "base_uri": "https://localhost:8080/",
          "height": 296
        },
        "id": "jmF0QWv1iIbI",
        "outputId": "8b4107cf-2203-4b3c-c45a-93e5a06bb25a"
      },
      "outputs": [
        {
          "data": {
            "text/plain": [
              "<matplotlib.axes._subplots.AxesSubplot at 0x7fb05e419280>"
            ]
          },
          "execution_count": 117,
          "metadata": {},
          "output_type": "execute_result"
        },
        {
          "data": {
            "image/png": "[encoded data removed]",
            "text/plain": [
              "<Figure size 432x288 with 1 Axes>"
            ]
          },
          "metadata": {
            "needs_background": "light"
          },
          "output_type": "display_data"
        }
      ],
      "source": [
        "sns.countplot(data=df_titanic_results, x=\"SibSp\", hue=\"Survived\")"
      ]
    },
    {
      "cell_type": "code",
      "execution_count": null,
      "metadata": {
        "colab": {
          "base_uri": "https://localhost:8080/",
          "height": 296
        },
        "id": "3oYBRVz1lzTZ",
        "outputId": "1c9db291-6b21-4301-8807-6a21c96128ba"
      },
      "outputs": [
        {
          "data": {
            "text/plain": [
              "<matplotlib.axes._subplots.AxesSubplot at 0x7fb05e3fa130>"
            ]
          },
          "execution_count": 118,
          "metadata": {},
          "output_type": "execute_result"
        },
        {
          "data": {
            "image/png": "[encoded data removed]",
            "text/plain": [
              "<Figure size 432x288 with 1 Axes>"
            ]
          },
          "metadata": {
            "needs_background": "light"
          },
          "output_type": "display_data"
        }
      ],
      "source": [
        "sns.countplot(data=df_titanic_results, x=\"Parch\", hue=\"Survived\")"
      ]
    },
    {
      "cell_type": "markdown",
      "metadata": {
        "id": "8a_57JpcsW31"
      },
      "source": [
        "# How many was in each class"
      ]
    },
    {
      "cell_type": "code",
      "execution_count": null,
      "metadata": {
        "colab": {
          "base_uri": "https://localhost:8080/",
          "height": 386
        },
        "id": "2nQKRlNbl2wl",
        "outputId": "9dfb3180-fa8c-461e-80f6-b3c14958d1a8"
      },
      "outputs": [
        {
          "data": {
            "text/plain": [
              "<seaborn.axisgrid.FacetGrid at 0x7fb05e550c10>"
            ]
          },
          "execution_count": 119,
          "metadata": {},
          "output_type": "execute_result"
        },
        {
          "data": {
            "image/png": "[encoded data removed]",
            "text/plain": [
              "<Figure size 430.5x360 with 1 Axes>"
            ]
          },
          "metadata": {
            "needs_background": "light"
          },
          "output_type": "display_data"
        }
      ],
      "source": [
        "sns.catplot(data=df_titanic_results.sort_values(by=[\"Pclass\"]), x=\"Age\", y=\"Pclass\", hue=\"Sex\",  kind=\"violin\")"
      ]
    }
  ],
  "metadata": {
    "colab": {
      "provenance": []
    },
    "kernelspec": {
      "display_name": "Python 3",
      "language": "python",
      "name": "python3"
    },
    "language_info": {
      "name": "python",
      "version": "3.9.2 (tags/v3.9.2:1a79785, Feb 19 2021, 13:44:55) [MSC v.1928 64 bit (AMD64)]"
    },
    "vscode": {
      "interpreter": {
        "hash": "2667825676833abd5eb581414647421181def4a25f2fcad2b132344753b1ff81"
      }
    }
  },
  "nbformat": 4,
  "nbformat_minor": 0
}
