{
  "nbformat": 4,
  "nbformat_minor": 0,
  "metadata": {
    "colab": {
      "provenance": []
    },
    "kernelspec": {
      "name": "python3",
      "display_name": "Python 3"
    },
    "language_info": {
      "name": "python"
    }
  },
  "cells": [
    {
      "cell_type": "code",
      "execution_count": 96,
      "metadata": {
        "id": "ANI0xuURIovY"
      },
      "outputs": [],
      "source": [
        "import matplotlib.pyplot as plt\n",
        "import numpy as np\n",
        "import pandas as pd\n",
        "import seaborn as sns\n",
        "\n",
        "from sklearn.dummy import DummyClassifier\n",
        "from sklearn.preprocessing import StandardScaler\n",
        "from sklearn.svm import LinearSVC, SVC\n",
        "from sklearn.metrics import accuracy_score\n",
        "from sklearn.model_selection import train_test_split\n",
        "\n",
        "SEED = 5\n",
        "np.random.seed(SEED)"
      ]
    },
    {
      "cell_type": "code",
      "source": [
        "change_sex = {\n",
        "    \"male\": 0,\n",
        "    \"female\": 1\n",
        "}\n",
        "\n",
        "train_df = pd.read_csv(\"titanic_challenge/train.csv\")\n",
        "\n",
        "train_df[\"Sex\"] = train_df[\"Sex\"].map(change_sex)\n",
        "train_df[\"Age\"] = train_df[\"Age\"].fillna(0)\n",
        "train_df[\"Fare\"] = train_df[\"Fare\"].fillna(0)\n",
        "\n",
        "train_df_x = train_df[[\"PassengerId\", \"Sex\", \"Age\", \"Pclass\", \"SibSp\", \"Parch\"]]\n",
        "train_df_y = train_df[\"Survived\"]\n",
        "\n",
        "raw_train_x, raw_test_x, train_y, test_y = train_test_split(train_df_x, train_df_y, stratify=train_df_y, test_size=0.25)\n",
        "\n",
        "print(f\"Training with {len(raw_train_x)} and testing with {len(raw_test_x)}\")"
      ],
      "metadata": {
        "colab": {
          "base_uri": "https://localhost:8080/"
        },
        "id": "YFa1DOJiJ6-m",
        "outputId": "add959ec-d65b-414e-f0d5-a671282e59fe"
      },
      "execution_count": 97,
      "outputs": [
        {
          "output_type": "stream",
          "name": "stdout",
          "text": [
            "Training with 668 and testing with 223\n"
          ]
        }
      ]
    },
    {
      "cell_type": "code",
      "source": [
        "# Baseline\n",
        "dummy = DummyClassifier()\n",
        "dummy.fit(raw_train_x, train_y)\n",
        "dummy_predict = dummy.predict(raw_test_x)\n",
        "baseline_dummy_accuracy = dummy.score(train_y, train_y)\n",
        "print(f\"Baseline dummy accuracy was {baseline_dummy_accuracy:.2%}\")\n",
        "\n",
        "# Model training\n",
        "scaler = StandardScaler()\n",
        "scaler.fit(raw_train_x)\n",
        "train_x = scaler.transform(raw_train_x)\n",
        "test_x = scaler.transform(raw_test_x)\n",
        "\n",
        "model = SVC()\n",
        "model.fit(train_x, train_y)\n",
        "predict = model.predict(test_x)\n",
        "accuracy = accuracy_score(test_y, predict)\n",
        "print(f\"Accuracy was {accuracy:.2%}\")"
      ],
      "metadata": {
        "colab": {
          "base_uri": "https://localhost:8080/"
        },
        "id": "d6kEJJwBMCRx",
        "outputId": "2e1584d2-c654-4fda-e23c-ade1c344e529"
      },
      "execution_count": 98,
      "outputs": [
        {
          "output_type": "stream",
          "name": "stdout",
          "text": [
            "Baseline dummy accuracy was 61.68%\n",
            "Accuracy was 83.41%\n"
          ]
        }
      ]
    },
    {
      "cell_type": "code",
      "source": [
        "frames = [pd.DataFrame(test_y), raw_test_x]\n",
        "df_titanic_final = pd.concat(frames, axis=1)\n",
        "\n",
        "change_survived = {\n",
        "    0: \"No\",\n",
        "    1: \"Yes\"\n",
        "}\n",
        "\n",
        "change_sex = {\n",
        "    0: \"male\",\n",
        "    1: \"female\"\n",
        "}\n",
        "\n",
        "change_class = {\n",
        "    1: \"First\",\n",
        "    2: \"Second\",\n",
        "    3: \"Third\"\n",
        "}\n",
        "\n",
        "df_titanic_final[\"Survived\"] = df_titanic_final[\"Survived\"].map(change_survived)\n",
        "df_titanic_final[\"Sex\"] = df_titanic_final[\"Sex\"].map(change_sex)\n",
        "df_titanic_final[\"Pclass\"] = df_titanic_final[\"Pclass\"].map(change_class)"
      ],
      "metadata": {
        "id": "rKsltPrUW5Ah"
      },
      "execution_count": 99,
      "outputs": []
    },
    {
      "cell_type": "markdown",
      "source": [
        "# Challenge result"
      ],
      "metadata": {
        "id": "z2BxBAx6HmL0"
      }
    },
    {
      "cell_type": "code",
      "source": [
        "df_titanic_final[[\"PassengerId\", \"Survived\"]].sort_values(by=[\"PassengerId\"])"
      ],
      "metadata": {
        "colab": {
          "base_uri": "https://localhost:8080/",
          "height": 424
        },
        "id": "Rt9ihhSiGUQF",
        "outputId": "1b88f460-e4e2-406c-8574-5f052d4de957"
      },
      "execution_count": 100,
      "outputs": [
        {
          "output_type": "execute_result",
          "data": {
            "text/plain": [
              "     PassengerId Survived\n",
              "11            12      Yes\n",
              "12            13       No\n",
              "16            17       No\n",
              "27            28       No\n",
              "29            30       No\n",
              "..           ...      ...\n",
              "872          873       No\n",
              "874          875      Yes\n",
              "875          876      Yes\n",
              "883          884       No\n",
              "887          888      Yes\n",
              "\n",
              "[223 rows x 2 columns]"
            ],
            "text/html": [
              "\n",
              "  <div id=\"df-b02bd664-5512-444c-bd5f-5e7e604e0d14\">\n",
              "    <div class=\"colab-df-container\">\n",
              "      <div>\n",
              "<style scoped>\n",
              "    .dataframe tbody tr th:only-of-type {\n",
              "        vertical-align: middle;\n",
              "    }\n",
              "\n",
              "    .dataframe tbody tr th {\n",
              "        vertical-align: top;\n",
              "    }\n",
              "\n",
              "    .dataframe thead th {\n",
              "        text-align: right;\n",
              "    }\n",
              "</style>\n",
              "<table border=\"1\" class=\"dataframe\">\n",
              "  <thead>\n",
              "    <tr style=\"text-align: right;\">\n",
              "      <th></th>\n",
              "      <th>PassengerId</th>\n",
              "      <th>Survived</th>\n",
              "    </tr>\n",
              "  </thead>\n",
              "  <tbody>\n",
              "    <tr>\n",
              "      <th>11</th>\n",
              "      <td>12</td>\n",
              "      <td>Yes</td>\n",
              "    </tr>\n",
              "    <tr>\n",
              "      <th>12</th>\n",
              "      <td>13</td>\n",
              "      <td>No</td>\n",
              "    </tr>\n",
              "    <tr>\n",
              "      <th>16</th>\n",
              "      <td>17</td>\n",
              "      <td>No</td>\n",
              "    </tr>\n",
              "    <tr>\n",
              "      <th>27</th>\n",
              "      <td>28</td>\n",
              "      <td>No</td>\n",
              "    </tr>\n",
              "    <tr>\n",
              "      <th>29</th>\n",
              "      <td>30</td>\n",
              "      <td>No</td>\n",
              "    </tr>\n",
              "    <tr>\n",
              "      <th>...</th>\n",
              "      <td>...</td>\n",
              "      <td>...</td>\n",
              "    </tr>\n",
              "    <tr>\n",
              "      <th>872</th>\n",
              "      <td>873</td>\n",
              "      <td>No</td>\n",
              "    </tr>\n",
              "    <tr>\n",
              "      <th>874</th>\n",
              "      <td>875</td>\n",
              "      <td>Yes</td>\n",
              "    </tr>\n",
              "    <tr>\n",
              "      <th>875</th>\n",
              "      <td>876</td>\n",
              "      <td>Yes</td>\n",
              "    </tr>\n",
              "    <tr>\n",
              "      <th>883</th>\n",
              "      <td>884</td>\n",
              "      <td>No</td>\n",
              "    </tr>\n",
              "    <tr>\n",
              "      <th>887</th>\n",
              "      <td>888</td>\n",
              "      <td>Yes</td>\n",
              "    </tr>\n",
              "  </tbody>\n",
              "</table>\n",
              "<p>223 rows × 2 columns</p>\n",
              "</div>\n",
              "      <button class=\"colab-df-convert\" onclick=\"convertToInteractive('df-b02bd664-5512-444c-bd5f-5e7e604e0d14')\"\n",
              "              title=\"Convert this dataframe to an interactive table.\"\n",
              "              style=\"display:none;\">\n",
              "        \n",
              "  <svg xmlns=\"http://www.w3.org/2000/svg\" height=\"24px\"viewBox=\"0 0 24 24\"\n",
              "       width=\"24px\">\n",
              "    <path d=\"M0 0h24v24H0V0z\" fill=\"none\"/>\n",
              "    <path d=\"M18.56 5.44l.94 2.06.94-2.06 2.06-.94-2.06-.94-.94-2.06-.94 2.06-2.06.94zm-11 1L8.5 8.5l.94-2.06 2.06-.94-2.06-.94L8.5 2.5l-.94 2.06-2.06.94zm10 10l.94 2.06.94-2.06 2.06-.94-2.06-.94-.94-2.06-.94 2.06-2.06.94z\"/><path d=\"M17.41 7.96l-1.37-1.37c-.4-.4-.92-.59-1.43-.59-.52 0-1.04.2-1.43.59L10.3 9.45l-7.72 7.72c-.78.78-.78 2.05 0 2.83L4 21.41c.39.39.9.59 1.41.59.51 0 1.02-.2 1.41-.59l7.78-7.78 2.81-2.81c.8-.78.8-2.07 0-2.86zM5.41 20L4 18.59l7.72-7.72 1.47 1.35L5.41 20z\"/>\n",
              "  </svg>\n",
              "      </button>\n",
              "      \n",
              "  <style>\n",
              "    .colab-df-container {\n",
              "      display:flex;\n",
              "      flex-wrap:wrap;\n",
              "      gap: 12px;\n",
              "    }\n",
              "\n",
              "    .colab-df-convert {\n",
              "      background-color: #E8F0FE;\n",
              "      border: none;\n",
              "      border-radius: 50%;\n",
              "      cursor: pointer;\n",
              "      display: none;\n",
              "      fill: #1967D2;\n",
              "      height: 32px;\n",
              "      padding: 0 0 0 0;\n",
              "      width: 32px;\n",
              "    }\n",
              "\n",
              "    .colab-df-convert:hover {\n",
              "      background-color: #E2EBFA;\n",
              "      box-shadow: 0px 1px 2px rgba(60, 64, 67, 0.3), 0px 1px 3px 1px rgba(60, 64, 67, 0.15);\n",
              "      fill: #174EA6;\n",
              "    }\n",
              "\n",
              "    [theme=dark] .colab-df-convert {\n",
              "      background-color: #3B4455;\n",
              "      fill: #D2E3FC;\n",
              "    }\n",
              "\n",
              "    [theme=dark] .colab-df-convert:hover {\n",
              "      background-color: #434B5C;\n",
              "      box-shadow: 0px 1px 3px 1px rgba(0, 0, 0, 0.15);\n",
              "      filter: drop-shadow(0px 1px 2px rgba(0, 0, 0, 0.3));\n",
              "      fill: #FFFFFF;\n",
              "    }\n",
              "  </style>\n",
              "\n",
              "      <script>\n",
              "        const buttonEl =\n",
              "          document.querySelector('#df-b02bd664-5512-444c-bd5f-5e7e604e0d14 button.colab-df-convert');\n",
              "        buttonEl.style.display =\n",
              "          google.colab.kernel.accessAllowed ? 'block' : 'none';\n",
              "\n",
              "        async function convertToInteractive(key) {\n",
              "          const element = document.querySelector('#df-b02bd664-5512-444c-bd5f-5e7e604e0d14');\n",
              "          const dataTable =\n",
              "            await google.colab.kernel.invokeFunction('convertToInteractive',\n",
              "                                                     [key], {});\n",
              "          if (!dataTable) return;\n",
              "\n",
              "          const docLinkHtml = 'Like what you see? Visit the ' +\n",
              "            '<a target=\"_blank\" href=https://colab.research.google.com/notebooks/data_table.ipynb>data table notebook</a>'\n",
              "            + ' to learn more about interactive tables.';\n",
              "          element.innerHTML = '';\n",
              "          dataTable['output_type'] = 'display_data';\n",
              "          await google.colab.output.renderOutput(dataTable, element);\n",
              "          const docLink = document.createElement('div');\n",
              "          docLink.innerHTML = docLinkHtml;\n",
              "          element.appendChild(docLink);\n",
              "        }\n",
              "      </script>\n",
              "    </div>\n",
              "  </div>\n",
              "  "
            ]
          },
          "metadata": {},
          "execution_count": 100
        }
      ]
    },
    {
      "cell_type": "markdown",
      "source": [
        "# Percentage to survive by Type"
      ],
      "metadata": {
        "id": "iZDzt9UlCkp4"
      }
    },
    {
      "cell_type": "code",
      "source": [
        "childrens_alive = [(int(age), sex, alive) for sex, age, alive in zip(df_titanic_final[\"Sex\"],df_titanic_final[\"Age\"], df_titanic_final[\"Survived\"]) if age > 1 and age <= 13 and alive == \"Yes\"]\n",
        "childrens_dead = [(int(age), sex, alive) for sex, age, alive in zip(df_titanic_final[\"Sex\"],df_titanic_final[\"Age\"], df_titanic_final[\"Survived\"]) if age > 1 and age <= 13 and alive == \"No\"]\n",
        "\n",
        "teenagers_alive = [(int(age), sex, alive) for sex, age, alive in zip(df_titanic_final[\"Sex\"],df_titanic_final[\"Age\"], df_titanic_final[\"Survived\"]) if age > 13 and age <= 20 and alive == \"Yes\"] \n",
        "teenagers_dead = [(int(age), sex, alive) for sex, age, alive in zip(df_titanic_final[\"Sex\"],df_titanic_final[\"Age\"], df_titanic_final[\"Survived\"]) if age > 13 and age <= 20 and alive == \"No\"] \n",
        "\n",
        "adults_alive = [(int(age), sex, alive) for sex, age, alive in zip(df_titanic_final[\"Sex\"],df_titanic_final[\"Age\"], df_titanic_final[\"Survived\"]) if age > 20 and age <= 60 and alive == \"Yes\"] \n",
        "adults_dead = [(int(age), sex, alive) for sex, age, alive in zip(df_titanic_final[\"Sex\"],df_titanic_final[\"Age\"], df_titanic_final[\"Survived\"]) if age > 20 and age <= 60 and alive == \"No\"] \n",
        "\n",
        "old_alive = [(int(age), sex, alive) for sex, age, alive in zip(df_titanic_final[\"Sex\"],df_titanic_final[\"Age\"], df_titanic_final[\"Survived\"]) if age > 60 and alive == \"Yes\"] \n",
        "old_dead = [(int(age), sex, alive) for sex, age, alive in zip(df_titanic_final[\"Sex\"],df_titanic_final[\"Age\"], df_titanic_final[\"Survived\"]) if age > 60 and alive == \"No\"] "
      ],
      "metadata": {
        "id": "qlQ2FVE_AYzh"
      },
      "execution_count": 101,
      "outputs": []
    },
    {
      "cell_type": "code",
      "source": [
        "# All Sex\n",
        "percent_children = round((len(childrens_alive)/len(childrens_dead)) * 100, 2)\n",
        "percent_teenager = round((len(teenagers_alive)/len(teenagers_dead)) * 100, 2)\n",
        "percent_adult = round((len(adults_alive)/len(adults_dead)) * 100, 2)\n",
        "percent_old = round((len(old_alive)/len(old_dead)) * 100, 2)\n",
        "\n",
        "df_percentual_to_survive = pd.DataFrame([(\"Children\", percent_children), (\"Teenager\", percent_teenager), (\"Adult\", percent_adult), (\"Old\", percent_old)], columns=[\"Type\", \"Percentage\"])"
      ],
      "metadata": {
        "id": "ys_z9pCI8IZ2"
      },
      "execution_count": 102,
      "outputs": []
    },
    {
      "cell_type": "code",
      "source": [
        "sns.barplot(data=df_percentual_to_survive, x=\"Type\", y=\"Percentage\")"
      ],
      "metadata": {
        "colab": {
          "base_uri": "https://localhost:8080/",
          "height": 296
        },
        "id": "4Ej-BUDbBbkX",
        "outputId": "e9b56d9a-f7ff-4512-8f3c-c005bf39e205"
      },
      "execution_count": 103,
      "outputs": [
        {
          "output_type": "execute_result",
          "data": {
            "text/plain": [
              "<matplotlib.axes._subplots.AxesSubplot at 0x7fefbea45490>"
            ]
          },
          "metadata": {},
          "execution_count": 103
        },
        {
          "output_type": "display_data",
          "data": {
            "text/plain": [
              "<Figure size 432x288 with 1 Axes>"
            ],
            "image/png": "[encoded data removed]"
          },
          "metadata": {
            "needs_background": "light"
          }
        }
      ]
    },
    {
      "cell_type": "markdown",
      "source": [
        "# Survived by Sex"
      ],
      "metadata": {
        "id": "u9KH95S0KrWi"
      }
    },
    {
      "cell_type": "code",
      "source": [
        "childrens_list = childrens_alive + childrens_dead\n",
        "teenager_list = teenagers_alive + teenagers_dead\n",
        "adult_list = adults_alive + adults_dead\n",
        "old_list = old_alive + old_dead\n",
        "\n",
        "percentage_sex_frames = [pd.DataFrame(childrens_list, columns=[\"Age\", \"Sex\", \"Survived\"]), pd.DataFrame(teenager_list, columns=[\"Age\", \"Sex\", \"Survived\"]), pd.DataFrame(adult_list, columns=[\"Age\", \"Sex\", \"Survived\"]), pd.DataFrame(old_list, columns=[\"Age\", \"Sex\", \"Survived\"])]\n",
        "df_percentage_sex = pd.concat(percentage_sex_frames, axis=0)"
      ],
      "metadata": {
        "id": "ubXVl5QdI__I"
      },
      "execution_count": 124,
      "outputs": []
    },
    {
      "cell_type": "code",
      "source": [
        "sns.barplot(data=df_percentage_sex, x=\"Age\", y=\"Sex\", hue=\"Survived\")"
      ],
      "metadata": {
        "colab": {
          "base_uri": "https://localhost:8080/",
          "height": 296
        },
        "id": "3YcugkQQJoGf",
        "outputId": "43f57e44-d5dd-4d09-e20b-47004e2eec56"
      },
      "execution_count": 130,
      "outputs": [
        {
          "output_type": "execute_result",
          "data": {
            "text/plain": [
              "<matplotlib.axes._subplots.AxesSubplot at 0x7fefb9915820>"
            ]
          },
          "metadata": {},
          "execution_count": 130
        },
        {
          "output_type": "display_data",
          "data": {
            "text/plain": [
              "<Figure size 432x288 with 1 Axes>"
            ],
            "image/png": "[encoded data removed]"
          },
          "metadata": {
            "needs_background": "light"
          }
        }
      ]
    },
    {
      "cell_type": "markdown",
      "source": [
        "# How much person by sex and type"
      ],
      "metadata": {
        "id": "3JG1XOjhHuA3"
      }
    },
    {
      "cell_type": "code",
      "source": [
        "percentage_sex_frames = [pd.DataFrame(childrens_list, columns=[\"Age\", \"Sex\", \"Survived\"]), pd.DataFrame(teenager_list, columns=[\"Age\", \"Sex\", \"Survived\"]), pd.DataFrame(adult_list, columns=[\"Age\", \"Sex\", \"Survived\"]), pd.DataFrame(old_list, columns=[\"Age\", \"Sex\", \"Survived\"])]\n",
        "df_percentage_sex = pd.concat(percentage_sex_frames, axis=0)\n",
        "\n",
        "new_age_column = []\n",
        "for age in df_percentage_sex[\"Age\"]:\n",
        "  if age > 1 and age <= 13:\n",
        "    new_age_column.append(\"Children\")\n",
        "  elif age > 13 and age <= 20:\n",
        "    new_age_column.append(\"Teenager\")\n",
        "  elif age > 20 and age <= 60:\n",
        "    new_age_column.append(\"Adult\")\n",
        "  elif age > 60:\n",
        "    new_age_column.append(\"Old\")\n",
        "\n",
        "df_percentage_sex[\"Type\"] = new_age_column"
      ],
      "metadata": {
        "id": "19toU1G08g3O"
      },
      "execution_count": 126,
      "outputs": []
    },
    {
      "cell_type": "code",
      "source": [
        "sns.countplot(data=df_percentage_sex, x=\"Sex\", hue=\"Type\")"
      ],
      "metadata": {
        "colab": {
          "base_uri": "https://localhost:8080/",
          "height": 296
        },
        "id": "OdzgTLBjCPUT",
        "outputId": "2f06c590-0105-4f00-da9d-d57b137406d8"
      },
      "execution_count": 127,
      "outputs": [
        {
          "output_type": "execute_result",
          "data": {
            "text/plain": [
              "<matplotlib.axes._subplots.AxesSubplot at 0x7fefb9a46460>"
            ]
          },
          "metadata": {},
          "execution_count": 127
        },
        {
          "output_type": "display_data",
          "data": {
            "text/plain": [
              "<Figure size 432x288 with 1 Axes>"
            ],
            "image/png": "[encoded data removed]"
          },
          "metadata": {
            "needs_background": "light"
          }
        }
      ]
    },
    {
      "cell_type": "markdown",
      "source": [
        "# Survived by Class"
      ],
      "metadata": {
        "id": "fFvsUZ5fuVZ4"
      }
    },
    {
      "cell_type": "code",
      "source": [
        "sns.countplot(data=df_titanic_final.sort_values(by=[\"Pclass\"]), x=\"Pclass\", hue=\"Survived\")"
      ],
      "metadata": {
        "colab": {
          "base_uri": "https://localhost:8080/",
          "height": 296
        },
        "id": "aNxLaqxEfP_d",
        "outputId": "c3382a9c-64df-43ff-cd6a-308e9dd2ca83"
      },
      "execution_count": 106,
      "outputs": [
        {
          "output_type": "execute_result",
          "data": {
            "text/plain": [
              "<matplotlib.axes._subplots.AxesSubplot at 0x7fefba1a1400>"
            ]
          },
          "metadata": {},
          "execution_count": 106
        },
        {
          "output_type": "display_data",
          "data": {
            "text/plain": [
              "<Figure size 432x288 with 1 Axes>"
            ],
            "image/png": "[encoded data removed]"
          },
          "metadata": {
            "needs_background": "light"
          }
        }
      ]
    },
    {
      "cell_type": "markdown",
      "source": [
        "# Survived by family relations"
      ],
      "metadata": {
        "id": "dxybz52tE6kU"
      }
    },
    {
      "cell_type": "code",
      "source": [
        "sns.countplot(data=df_titanic_final, x=\"SibSp\", hue=\"Survived\")"
      ],
      "metadata": {
        "colab": {
          "base_uri": "https://localhost:8080/",
          "height": 296
        },
        "id": "jmF0QWv1iIbI",
        "outputId": "14ff6ec0-de45-49a9-a1e3-af30283dc86c"
      },
      "execution_count": 107,
      "outputs": [
        {
          "output_type": "execute_result",
          "data": {
            "text/plain": [
              "<matplotlib.axes._subplots.AxesSubplot at 0x7fefbcd5b0a0>"
            ]
          },
          "metadata": {},
          "execution_count": 107
        },
        {
          "output_type": "display_data",
          "data": {
            "text/plain": [
              "<Figure size 432x288 with 1 Axes>"
            ],
            "image/png": "[encoded data removed]"
          },
          "metadata": {
            "needs_background": "light"
          }
        }
      ]
    },
    {
      "cell_type": "code",
      "source": [
        "sns.countplot(data=df_titanic_final, x=\"Parch\", hue=\"Survived\")"
      ],
      "metadata": {
        "colab": {
          "base_uri": "https://localhost:8080/",
          "height": 296
        },
        "id": "3oYBRVz1lzTZ",
        "outputId": "1930d787-a27e-4cbc-816e-3f70eb788f1e"
      },
      "execution_count": 108,
      "outputs": [
        {
          "output_type": "execute_result",
          "data": {
            "text/plain": [
              "<matplotlib.axes._subplots.AxesSubplot at 0x7fefbcd312e0>"
            ]
          },
          "metadata": {},
          "execution_count": 108
        },
        {
          "output_type": "display_data",
          "data": {
            "text/plain": [
              "<Figure size 432x288 with 1 Axes>"
            ],
            "image/png": "[encoded data removed]"
          },
          "metadata": {
            "needs_background": "light"
          }
        }
      ]
    },
    {
      "cell_type": "markdown",
      "source": [
        "# How many was in each class"
      ],
      "metadata": {
        "id": "8a_57JpcsW31"
      }
    },
    {
      "cell_type": "code",
      "source": [
        "sns.catplot(data=df_titanic_final.sort_values(by=[\"Pclass\"]), x=\"Age\", y=\"Pclass\", hue=\"Sex\",  kind=\"violin\")"
      ],
      "metadata": {
        "colab": {
          "base_uri": "https://localhost:8080/",
          "height": 386
        },
        "id": "2nQKRlNbl2wl",
        "outputId": "7dad993a-ac9a-429e-cefd-b3b557216e69"
      },
      "execution_count": 114,
      "outputs": [
        {
          "output_type": "execute_result",
          "data": {
            "text/plain": [
              "<seaborn.axisgrid.FacetGrid at 0x7fefb9e8d580>"
            ]
          },
          "metadata": {},
          "execution_count": 114
        },
        {
          "output_type": "display_data",
          "data": {
            "text/plain": [
              "<Figure size 430.5x360 with 1 Axes>"
            ],
            "image/png": "[encoded data removed]"
          },
          "metadata": {
            "needs_background": "light"
          }
        }
      ]
    }
  ]
}