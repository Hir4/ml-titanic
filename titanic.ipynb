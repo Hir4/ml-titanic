{
  "nbformat": 4,
  "nbformat_minor": 0,
  "metadata": {
    "colab": {
      "provenance": []
    },
    "kernelspec": {
      "name": "python3",
      "display_name": "Python 3"
    },
    "language_info": {
      "name": "python"
    }
  },
  "cells": [
    {
      "cell_type": "code",
      "execution_count": 378,
      "metadata": {
        "id": "ANI0xuURIovY"
      },
      "outputs": [],
      "source": [
        "import matplotlib.pyplot as plt\n",
        "import numpy as np\n",
        "import pandas as pd\n",
        "import seaborn as sns\n",
        "\n",
        "from sklearn.dummy import DummyClassifier\n",
        "from sklearn.preprocessing import StandardScaler\n",
        "from sklearn.svm import LinearSVC, SVC\n",
        "from sklearn.metrics import accuracy_score\n",
        "from sklearn.model_selection import train_test_split\n",
        "\n",
        "SEED = 5\n",
        "np.random.seed(SEED)"
      ]
    },
    {
      "cell_type": "code",
      "source": [
        "change = {\n",
        "    \"male\": 0,\n",
        "    \"female\": 1\n",
        "}\n",
        "\n",
        "train_df = pd.read_csv(\"titanic_challenge/train.csv\")\n",
        "\n",
        "train_df[\"Sex\"] = train_df[\"Sex\"].map(change)\n",
        "train_df[\"Age\"] = train_df[\"Age\"].fillna(0)\n",
        "train_df[\"Fare\"] = train_df[\"Fare\"].fillna(0)\n",
        "\n",
        "train_df_x = train_df[[\"PassengerId\", \"Sex\", \"Age\", \"Pclass\", \"SibSp\", \"Parch\"]]\n",
        "train_df_y = train_df[\"Survived\"]\n",
        "\n",
        "raw_train_x, raw_test_x, train_y, test_y = train_test_split(train_df_x, train_df_y, stratify=train_df_y, test_size=0.25)\n",
        "\n",
        "print(f\"Training with {len(raw_train_x)} and testing with {len(raw_test_x)}\")"
      ],
      "metadata": {
        "colab": {
          "base_uri": "https://localhost:8080/"
        },
        "id": "YFa1DOJiJ6-m",
        "outputId": "1aee1b90-3309-47b1-dcda-e72209d15c4c"
      },
      "execution_count": 379,
      "outputs": [
        {
          "output_type": "stream",
          "name": "stdout",
          "text": [
            "Training with 668 and testing with 223\n"
          ]
        }
      ]
    },
    {
      "cell_type": "code",
      "source": [
        "# Baseline\n",
        "baseline_train_predict = np.zeros(668)\n",
        "baseline_accuracy = accuracy_score(train_y, baseline_train_predict)\n",
        "print(f\"Baseline accuracy was {baseline_accuracy:.2%}\")\n",
        "\n",
        "# Model training\n",
        "scaler = StandardScaler()\n",
        "scaler.fit(raw_train_x)\n",
        "train_x = scaler.transform(raw_train_x)\n",
        "test_x = scaler.transform(raw_test_x)\n",
        "\n",
        "model = SVC()\n",
        "model.fit(train_x, train_y)\n",
        "predict = model.predict(test_x)\n",
        "accuracy = accuracy_score(test_y, predict)\n",
        "print(f\"Accuracy was {accuracy:.2%}\")"
      ],
      "metadata": {
        "colab": {
          "base_uri": "https://localhost:8080/"
        },
        "id": "d6kEJJwBMCRx",
        "outputId": "b0295076-57e6-490f-c7ab-974fece369af"
      },
      "execution_count": 380,
      "outputs": [
        {
          "output_type": "stream",
          "name": "stdout",
          "text": [
            "Baseline accuracy was 61.68%\n",
            "Accuracy was 83.41%\n"
          ]
        }
      ]
    },
    {
      "cell_type": "code",
      "source": [
        "frames = [pd.DataFrame(test_y), raw_test_x]\n",
        "new_df = pd.concat(frames, axis=1)\n",
        "\n",
        "change_survived = {\n",
        "    0: \"No\",\n",
        "    1: \"Yes\"\n",
        "}\n",
        "\n",
        "change_sex = {\n",
        "    0: \"male\",\n",
        "    1: \"female\"\n",
        "}\n",
        "\n",
        "change_class = {\n",
        "    1: \"First\",\n",
        "    2: \"Second\",\n",
        "    3: \"Third\"\n",
        "}\n",
        "\n",
        "new_df[\"Survived\"] = new_df[\"Survived\"].map(change_survived)\n",
        "new_df[\"Sex\"] = new_df[\"Sex\"].map(change_sex)\n",
        "new_df[\"Pclass\"] = new_df[\"Pclass\"].map(change_class)"
      ],
      "metadata": {
        "id": "rKsltPrUW5Ah"
      },
      "execution_count": 331,
      "outputs": []
    },
    {
      "cell_type": "markdown",
      "source": [
        "# Percentage to survive"
      ],
      "metadata": {
        "id": "iZDzt9UlCkp4"
      }
    },
    {
      "cell_type": "code",
      "source": [
        "childrens_alive = [(int(age), sex) for sex, age, alive in zip(new_df[\"Sex\"],new_df[\"Age\"], new_df[\"Survived\"]) if age > 1 and age < 13 and alive == \"Yes\"]\n",
        "childrens_dead = [(int(age), sex) for sex, age, alive in zip(new_df[\"Sex\"],new_df[\"Age\"], new_df[\"Survived\"]) if age > 1 and age < 13 and alive == \"No\"]\n",
        "\n",
        "teenagers_alive = [(int(age), sex) for sex, age, alive in zip(new_df[\"Sex\"],new_df[\"Age\"], new_df[\"Survived\"]) if age > 13 and age < 20 and alive == \"Yes\"] \n",
        "teenagers_dead = [(int(age), sex) for sex, age, alive in zip(new_df[\"Sex\"],new_df[\"Age\"], new_df[\"Survived\"]) if age > 13 and age < 20 and alive == \"No\"] \n",
        "\n",
        "adults_alive = [(int(age), sex) for sex, age, alive in zip(new_df[\"Sex\"],new_df[\"Age\"], new_df[\"Survived\"]) if age > 20 and age < 60 and alive == \"Yes\"] \n",
        "adults_dead = [(int(age), sex) for sex, age, alive in zip(new_df[\"Sex\"],new_df[\"Age\"], new_df[\"Survived\"]) if age > 20 and age < 60 and alive == \"No\"] \n",
        "\n",
        "old_alive = [(int(age), sex) for sex, age, alive in zip(new_df[\"Sex\"],new_df[\"Age\"], new_df[\"Survived\"]) if age > 60 and alive == \"Yes\"] \n",
        "old_dead = [(int(age), sex) for sex, age, alive in zip(new_df[\"Sex\"],new_df[\"Age\"], new_df[\"Survived\"]) if age > 60 and alive == \"No\"] "
      ],
      "metadata": {
        "id": "qlQ2FVE_AYzh"
      },
      "execution_count": null,
      "outputs": []
    },
    {
      "cell_type": "code",
      "source": [
        "percent_children = round((len(childrens_alive)/len(childrens_dead)) * 100, 2)\n",
        "percent_teenager = round((len(teenagers_alive)/len(teenagers_dead)) * 100, 2)\n",
        "percent_adult = round((len(adults_alive)/len(adults_dead)) * 100, 2)\n",
        "percent_old = round((len(old_alive)/len(old_dead)) * 100, 2)\n",
        "\n",
        "df_percentual_to_survive = pd.DataFrame([(\"Children\", percent_children), (\"Teenager\", percent_teenager), (\"Adult\", percent_adult), (\"Old\", percent_old)], columns=[\"Type\", \"Percentage\"])"
      ],
      "metadata": {
        "id": "ys_z9pCI8IZ2"
      },
      "execution_count": null,
      "outputs": []
    },
    {
      "cell_type": "code",
      "source": [
        "sns.barplot(data=df_percentual_to_survive, x=\"Type\", y=\"Percentage\")"
      ],
      "metadata": {
        "colab": {
          "base_uri": "https://localhost:8080/",
          "height": 296
        },
        "id": "4Ej-BUDbBbkX",
        "outputId": "886d4b6b-960e-40bf-cef0-f17cce85b17f"
      },
      "execution_count": 413,
      "outputs": [
        {
          "output_type": "execute_result",
          "data": {
            "text/plain": [
              "<matplotlib.axes._subplots.AxesSubplot at 0x7f993a15de20>"
            ]
          },
          "metadata": {},
          "execution_count": 413
        },
        {
          "output_type": "display_data",
          "data": {
            "text/plain": [
              "<Figure size 432x288 with 1 Axes>"
            ],
            "image/png": "[encoded data removed]"
          },
          "metadata": {
            "needs_background": "light"
          }
        }
      ]
    },
    {
      "cell_type": "markdown",
      "source": [
        "We can say that survived more people in the **Third Class**, but it was where died most too. **First Class** was the only one that has more survivors."
      ],
      "metadata": {
        "id": "fFvsUZ5fuVZ4"
      }
    },
    {
      "cell_type": "code",
      "source": [
        "sns.countplot(data=new_df, x=\"Pclass\", hue=\"Survived\")"
      ],
      "metadata": {
        "colab": {
          "base_uri": "https://localhost:8080/",
          "height": 296
        },
        "id": "aNxLaqxEfP_d",
        "outputId": "99267eab-7d88-4349-a722-721fa6ca8d25"
      },
      "execution_count": 323,
      "outputs": [
        {
          "output_type": "execute_result",
          "data": {
            "text/plain": [
              "<matplotlib.axes._subplots.AxesSubplot at 0x7f9941917190>"
            ]
          },
          "metadata": {},
          "execution_count": 323
        },
        {
          "output_type": "display_data",
          "data": {
            "text/plain": [
              "<Figure size 432x288 with 1 Axes>"
            ],
            "image/png": "[encoded data removed]"
          },
          "metadata": {
            "needs_background": "light"
          }
        }
      ]
    },
    {
      "cell_type": "code",
      "source": [
        "sns.countplot(data=new_df, x=\"SibSp\", hue=\"Survived\")"
      ],
      "metadata": {
        "colab": {
          "base_uri": "https://localhost:8080/",
          "height": 296
        },
        "id": "jmF0QWv1iIbI",
        "outputId": "fad98e92-58fa-47f9-b15b-9207f51ec374"
      },
      "execution_count": 324,
      "outputs": [
        {
          "output_type": "execute_result",
          "data": {
            "text/plain": [
              "<matplotlib.axes._subplots.AxesSubplot at 0x7f993a9be820>"
            ]
          },
          "metadata": {},
          "execution_count": 324
        },
        {
          "output_type": "display_data",
          "data": {
            "text/plain": [
              "<Figure size 432x288 with 1 Axes>"
            ],
            "image/png": "[encoded data removed]"
          },
          "metadata": {
            "needs_background": "light"
          }
        }
      ]
    },
    {
      "cell_type": "code",
      "source": [
        "sns.countplot(data=new_df, x=\"Parch\", hue=\"Survived\")"
      ],
      "metadata": {
        "colab": {
          "base_uri": "https://localhost:8080/",
          "height": 296
        },
        "id": "3oYBRVz1lzTZ",
        "outputId": "c17ebf07-a6b8-4a94-945f-39454aa686f6"
      },
      "execution_count": 325,
      "outputs": [
        {
          "output_type": "execute_result",
          "data": {
            "text/plain": [
              "<matplotlib.axes._subplots.AxesSubplot at 0x7f993a93e3d0>"
            ]
          },
          "metadata": {},
          "execution_count": 325
        },
        {
          "output_type": "display_data",
          "data": {
            "text/plain": [
              "<Figure size 432x288 with 1 Axes>"
            ],
            "image/png": "[encoded data removed]"
          },
          "metadata": {
            "needs_background": "light"
          }
        }
      ]
    },
    {
      "cell_type": "markdown",
      "source": [
        "We can affirm that **Third Class** has young people than others, while **Second Class** has more female between 20 - 40 years old. **First Class** has more female from younger to older."
      ],
      "metadata": {
        "id": "8a_57JpcsW31"
      }
    },
    {
      "cell_type": "code",
      "source": [
        "sns.catplot(data=new_df, x=\"Age\", y=\"Pclass\", hue=\"Sex\",  kind=\"violin\")"
      ],
      "metadata": {
        "colab": {
          "base_uri": "https://localhost:8080/",
          "height": 386
        },
        "id": "2nQKRlNbl2wl",
        "outputId": "88eb55da-eeed-47d7-efaa-844c11211fa8"
      },
      "execution_count": 326,
      "outputs": [
        {
          "output_type": "execute_result",
          "data": {
            "text/plain": [
              "<seaborn.axisgrid.FacetGrid at 0x7f993cd863d0>"
            ]
          },
          "metadata": {},
          "execution_count": 326
        },
        {
          "output_type": "display_data",
          "data": {
            "text/plain": [
              "<Figure size 430.5x360 with 1 Axes>"
            ],
            "image/png": "[encoded data removed]"
          },
          "metadata": {
            "needs_background": "light"
          }
        }
      ]
    }
  ]
}