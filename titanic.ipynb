{
  "nbformat": 4,
  "nbformat_minor": 0,
  "metadata": {
    "colab": {
      "provenance": []
    },
    "kernelspec": {
      "name": "python3",
      "display_name": "Python 3"
    },
    "language_info": {
      "name": "python"
    }
  },
  "cells": [
    {
      "cell_type": "markdown",
      "source": [
        "# Importing libraries"
      ],
      "metadata": {
        "id": "yq9D1NNJq4mQ"
      }
    },
    {
      "cell_type": "code",
      "execution_count": 103,
      "metadata": {
        "id": "ANI0xuURIovY"
      },
      "outputs": [],
      "source": [
        "import matplotlib.pyplot as plt\n",
        "import numpy as np\n",
        "import pandas as pd\n",
        "import seaborn as sns\n",
        "\n",
        "from sklearn.dummy import DummyClassifier\n",
        "from sklearn.preprocessing import StandardScaler\n",
        "from sklearn.svm import LinearSVC, SVC\n",
        "from sklearn.metrics import accuracy_score\n",
        "from sklearn.model_selection import train_test_split\n",
        "\n",
        "SEED = 5\n",
        "np.random.seed(SEED)"
      ]
    },
    {
      "cell_type": "markdown",
      "source": [
        "# Training Model"
      ],
      "metadata": {
        "id": "8XHs_AqIjqYU"
      }
    },
    {
      "cell_type": "code",
      "source": [
        "change_sex = {\n",
        "    \"male\": 0,\n",
        "    \"female\": 1\n",
        "}\n",
        "\n",
        "train_df = pd.read_csv(\"titanic_challenge/train.csv\")\n",
        "\n",
        "train_df[\"Sex\"] = train_df[\"Sex\"].map(change_sex)\n",
        "train_df[\"Age\"] = train_df[\"Age\"].fillna(0)\n",
        "train_df[\"Fare\"] = train_df[\"Fare\"].fillna(0)\n",
        "\n",
        "train_df_x = train_df[[\"PassengerId\", \"Sex\", \"Age\", \"Pclass\", \"SibSp\", \"Parch\"]]\n",
        "train_df_y = train_df[\"Survived\"]\n",
        "\n",
        "raw_train_x, raw_test_x, train_y, test_y = train_test_split(train_df_x, train_df_y, stratify=train_df_y, test_size=0.25)\n",
        "\n",
        "print(f\"Training with {len(raw_train_x)} and testing with {len(raw_test_x)}\")"
      ],
      "metadata": {
        "colab": {
          "base_uri": "https://localhost:8080/"
        },
        "id": "YFa1DOJiJ6-m",
        "outputId": "086d30af-ce12-447c-f24b-168a0f44304e"
      },
      "execution_count": 104,
      "outputs": [
        {
          "output_type": "stream",
          "name": "stdout",
          "text": [
            "Training with 668 and testing with 223\n"
          ]
        }
      ]
    },
    {
      "cell_type": "code",
      "source": [
        "# Baseline\n",
        "dummy = DummyClassifier()\n",
        "dummy.fit(raw_train_x, train_y)\n",
        "dummy_predict = dummy.predict(raw_test_x)\n",
        "baseline_dummy_accuracy = dummy.score(train_y, train_y)\n",
        "print(f\"Baseline dummy accuracy was {baseline_dummy_accuracy:.2%}\")\n",
        "\n",
        "# Model training\n",
        "scaler = StandardScaler()\n",
        "scaler.fit(raw_train_x)\n",
        "train_x = scaler.transform(raw_train_x)\n",
        "test_x = scaler.transform(raw_test_x)\n",
        "\n",
        "model = SVC()\n",
        "model.fit(train_x, train_y)\n",
        "predict = model.predict(test_x)\n",
        "accuracy = accuracy_score(test_y, predict)\n",
        "print(f\"Accuracy was {accuracy:.2%}\")"
      ],
      "metadata": {
        "colab": {
          "base_uri": "https://localhost:8080/"
        },
        "id": "d6kEJJwBMCRx",
        "outputId": "c433c3ba-8ecb-43b5-bc25-e122030de0cb"
      },
      "execution_count": 105,
      "outputs": [
        {
          "output_type": "stream",
          "name": "stdout",
          "text": [
            "Baseline dummy accuracy was 61.68%\n",
            "Accuracy was 83.41%\n"
          ]
        }
      ]
    },
    {
      "cell_type": "markdown",
      "source": [
        "# Testing Model"
      ],
      "metadata": {
        "id": "Pw5TH6Efjmcp"
      }
    },
    {
      "cell_type": "code",
      "source": [
        "change_sex = {\n",
        "    \"male\": 0,\n",
        "    \"female\": 1\n",
        "}\n",
        "\n",
        "test_df = pd.read_csv(\"titanic_challenge/test.csv\")\n",
        "\n",
        "test_df[\"Sex\"] = test_df[\"Sex\"].map(change_sex)\n",
        "test_df[\"Age\"] = test_df[\"Age\"].fillna(0)\n",
        "test_df[\"Fare\"] = test_df[\"Fare\"].fillna(0)\n",
        "\n",
        "test_df_x = test_df[[\"PassengerId\", \"Sex\", \"Age\", \"Pclass\", \"SibSp\", \"Parch\"]].sort_values(by=[\"PassengerId\"])\n",
        "test_df_y = pd.read_csv(\"titanic_challenge/gender_submission.csv\").sort_values(by=[\"PassengerId\"])"
      ],
      "metadata": {
        "id": "qJabDTlsjuds"
      },
      "execution_count": 106,
      "outputs": []
    },
    {
      "cell_type": "code",
      "source": [
        "new_test_x = scaler.transform(test_df_x)\n",
        "predict_test = model.predict(new_test_x)\n",
        "\n",
        "predict_test = pd.DataFrame(predict_test, columns=[\"Survived\"])\n",
        "frames = [test_df_x, predict_test]\n",
        "df_titanic_results = pd.concat(frames, axis=1)\n",
        "\n",
        "accuracy_test = accuracy_score(test_df_y[\"Survived\"], df_titanic_results[\"Survived\"])\n",
        "print(f\"Accuracy Test was {accuracy_test:.2%}\")"
      ],
      "metadata": {
        "colab": {
          "base_uri": "https://localhost:8080/"
        },
        "id": "sLsUJ_BkkYlu",
        "outputId": "f23d21cc-f229-4715-9bad-961e94c0e406"
      },
      "execution_count": 107,
      "outputs": [
        {
          "output_type": "stream",
          "name": "stdout",
          "text": [
            "Accuracy Test was 81.82%\n"
          ]
        }
      ]
    },
    {
      "cell_type": "markdown",
      "source": [
        "# Set DataFrame to Analysis"
      ],
      "metadata": {
        "id": "fHhZZcbIpqQJ"
      }
    },
    {
      "cell_type": "code",
      "source": [
        "change_survived = {\n",
        "    0: \"No\",\n",
        "    1: \"Yes\"\n",
        "}\n",
        "\n",
        "change_sex = {\n",
        "    0: \"male\",\n",
        "    1: \"female\"\n",
        "}\n",
        "\n",
        "change_class = {\n",
        "    1: \"First\",\n",
        "    2: \"Second\",\n",
        "    3: \"Third\"\n",
        "}\n",
        "\n",
        "df_titanic_results[\"Survived\"] = df_titanic_results[\"Survived\"].map(change_survived)\n",
        "df_titanic_results[\"Sex\"] = df_titanic_results[\"Sex\"].map(change_sex)\n",
        "df_titanic_results[\"Pclass\"] = df_titanic_results[\"Pclass\"].map(change_class)"
      ],
      "metadata": {
        "id": "365zSaclpuWS"
      },
      "execution_count": 108,
      "outputs": []
    },
    {
      "cell_type": "markdown",
      "source": [
        "# Percentage to survive by Type"
      ],
      "metadata": {
        "id": "iZDzt9UlCkp4"
      }
    },
    {
      "cell_type": "code",
      "source": [
        "childrens_alive = [(int(age), sex, alive) for sex, age, alive in zip(df_titanic_results[\"Sex\"],df_titanic_results[\"Age\"], df_titanic_results[\"Survived\"]) if age > 1 and age <= 13 and alive == \"Yes\"]\n",
        "childrens_dead = [(int(age), sex, alive) for sex, age, alive in zip(df_titanic_results[\"Sex\"],df_titanic_results[\"Age\"], df_titanic_results[\"Survived\"]) if age > 1 and age <= 13 and alive == \"No\"]\n",
        "\n",
        "teenagers_alive = [(int(age), sex, alive) for sex, age, alive in zip(df_titanic_results[\"Sex\"],df_titanic_results[\"Age\"], df_titanic_results[\"Survived\"]) if age > 13 and age <= 20 and alive == \"Yes\"] \n",
        "teenagers_dead = [(int(age), sex, alive) for sex, age, alive in zip(df_titanic_results[\"Sex\"],df_titanic_results[\"Age\"], df_titanic_results[\"Survived\"]) if age > 13 and age <= 20 and alive == \"No\"] \n",
        "\n",
        "adults_alive = [(int(age), sex, alive) for sex, age, alive in zip(df_titanic_results[\"Sex\"],df_titanic_results[\"Age\"], df_titanic_results[\"Survived\"]) if age > 20 and age <= 60 and alive == \"Yes\"] \n",
        "adults_dead = [(int(age), sex, alive) for sex, age, alive in zip(df_titanic_results[\"Sex\"],df_titanic_results[\"Age\"], df_titanic_results[\"Survived\"]) if age > 20 and age <= 60 and alive == \"No\"] \n",
        "\n",
        "old_alive = [(int(age), sex, alive) for sex, age, alive in zip(df_titanic_results[\"Sex\"],df_titanic_results[\"Age\"], df_titanic_results[\"Survived\"]) if age > 60 and alive == \"Yes\"] \n",
        "old_dead = [(int(age), sex, alive) for sex, age, alive in zip(df_titanic_results[\"Sex\"],df_titanic_results[\"Age\"], df_titanic_results[\"Survived\"]) if age > 60 and alive == \"No\"] "
      ],
      "metadata": {
        "id": "qlQ2FVE_AYzh"
      },
      "execution_count": 109,
      "outputs": []
    },
    {
      "cell_type": "code",
      "source": [
        "# All Sex\n",
        "percent_children = round((len(childrens_alive)/len(childrens_dead)) * 100, 2)\n",
        "percent_teenager = round((len(teenagers_alive)/len(teenagers_dead)) * 100, 2)\n",
        "percent_adult = round((len(adults_alive)/len(adults_dead)) * 100, 2)\n",
        "percent_old = round((len(old_alive)/len(old_dead)) * 100, 2)\n",
        "\n",
        "df_percentual_to_survive = pd.DataFrame([(\"Children\", percent_children), (\"Teenager\", percent_teenager), (\"Adult\", percent_adult), (\"Old\", percent_old)], columns=[\"Type\", \"Percentage\"])"
      ],
      "metadata": {
        "id": "ys_z9pCI8IZ2"
      },
      "execution_count": 110,
      "outputs": []
    },
    {
      "cell_type": "code",
      "source": [
        "sns.barplot(data=df_percentual_to_survive, x=\"Type\", y=\"Percentage\")"
      ],
      "metadata": {
        "colab": {
          "base_uri": "https://localhost:8080/",
          "height": 296
        },
        "id": "4Ej-BUDbBbkX",
        "outputId": "d565b466-cc7f-41ac-fc87-941376aef86b"
      },
      "execution_count": 111,
      "outputs": [
        {
          "output_type": "execute_result",
          "data": {
            "text/plain": [
              "<matplotlib.axes._subplots.AxesSubplot at 0x7fb05ead1cd0>"
            ]
          },
          "metadata": {},
          "execution_count": 111
        },
        {
          "output_type": "display_data",
          "data": {
            "text/plain": [
              "<Figure size 432x288 with 1 Axes>"
            ],
            "image/png": "[encoded data removed]"
          },
          "metadata": {
            "needs_background": "light"
          }
        }
      ]
    },
    {
      "cell_type": "markdown",
      "source": [
        "# Survived by Sex"
      ],
      "metadata": {
        "id": "u9KH95S0KrWi"
      }
    },
    {
      "cell_type": "code",
      "source": [
        "childrens_list = childrens_alive + childrens_dead\n",
        "teenager_list = teenagers_alive + teenagers_dead\n",
        "adult_list = adults_alive + adults_dead\n",
        "old_list = old_alive + old_dead\n",
        "\n",
        "percentage_sex_frames = [pd.DataFrame(childrens_list, columns=[\"Age\", \"Sex\", \"Survived\"]), pd.DataFrame(teenager_list, columns=[\"Age\", \"Sex\", \"Survived\"]), pd.DataFrame(adult_list, columns=[\"Age\", \"Sex\", \"Survived\"]), pd.DataFrame(old_list, columns=[\"Age\", \"Sex\", \"Survived\"])]\n",
        "df_percentage_sex = pd.concat(percentage_sex_frames, axis=0)"
      ],
      "metadata": {
        "id": "ubXVl5QdI__I"
      },
      "execution_count": 112,
      "outputs": []
    },
    {
      "cell_type": "code",
      "source": [
        "sns.barplot(data=df_percentage_sex, x=\"Age\", y=\"Sex\", hue=\"Survived\")"
      ],
      "metadata": {
        "colab": {
          "base_uri": "https://localhost:8080/",
          "height": 296
        },
        "id": "3YcugkQQJoGf",
        "outputId": "9d57a7e5-2f1b-42a3-d1af-b9e0648674d1"
      },
      "execution_count": 113,
      "outputs": [
        {
          "output_type": "execute_result",
          "data": {
            "text/plain": [
              "<matplotlib.axes._subplots.AxesSubplot at 0x7fb05ea75760>"
            ]
          },
          "metadata": {},
          "execution_count": 113
        },
        {
          "output_type": "display_data",
          "data": {
            "text/plain": [
              "<Figure size 432x288 with 1 Axes>"
            ],
            "image/png": "[encoded data removed]"
          },
          "metadata": {
            "needs_background": "light"
          }
        }
      ]
    },
    {
      "cell_type": "markdown",
      "source": [
        "# How much person by sex and type"
      ],
      "metadata": {
        "id": "3JG1XOjhHuA3"
      }
    },
    {
      "cell_type": "code",
      "source": [
        "percentage_sex_frames = [pd.DataFrame(childrens_list, columns=[\"Age\", \"Sex\", \"Survived\"]), pd.DataFrame(teenager_list, columns=[\"Age\", \"Sex\", \"Survived\"]), pd.DataFrame(adult_list, columns=[\"Age\", \"Sex\", \"Survived\"]), pd.DataFrame(old_list, columns=[\"Age\", \"Sex\", \"Survived\"])]\n",
        "df_percentage_sex = pd.concat(percentage_sex_frames, axis=0)\n",
        "\n",
        "new_age_column = []\n",
        "for age in df_percentage_sex[\"Age\"]:\n",
        "  if age > 1 and age <= 13:\n",
        "    new_age_column.append(\"Children\")\n",
        "  elif age > 13 and age <= 20:\n",
        "    new_age_column.append(\"Teenager\")\n",
        "  elif age > 20 and age <= 60:\n",
        "    new_age_column.append(\"Adult\")\n",
        "  elif age > 60:\n",
        "    new_age_column.append(\"Old\")\n",
        "\n",
        "df_percentage_sex[\"Type\"] = new_age_column"
      ],
      "metadata": {
        "id": "19toU1G08g3O"
      },
      "execution_count": 114,
      "outputs": []
    },
    {
      "cell_type": "code",
      "source": [
        "sns.countplot(data=df_percentage_sex, x=\"Sex\", hue=\"Type\")"
      ],
      "metadata": {
        "colab": {
          "base_uri": "https://localhost:8080/",
          "height": 296
        },
        "id": "OdzgTLBjCPUT",
        "outputId": "cbaf20e9-156b-41e8-ec8f-edaea43f8773"
      },
      "execution_count": 115,
      "outputs": [
        {
          "output_type": "execute_result",
          "data": {
            "text/plain": [
              "<matplotlib.axes._subplots.AxesSubplot at 0x7fb05e550e50>"
            ]
          },
          "metadata": {},
          "execution_count": 115
        },
        {
          "output_type": "display_data",
          "data": {
            "text/plain": [
              "<Figure size 432x288 with 1 Axes>"
            ],
            "image/png": "[encoded data removed]"
          },
          "metadata": {
            "needs_background": "light"
          }
        }
      ]
    },
    {
      "cell_type": "markdown",
      "source": [
        "# Survived by Class"
      ],
      "metadata": {
        "id": "fFvsUZ5fuVZ4"
      }
    },
    {
      "cell_type": "code",
      "source": [
        "sns.countplot(data=df_titanic_results.sort_values(by=[\"Pclass\"]), x=\"Pclass\", hue=\"Survived\")"
      ],
      "metadata": {
        "colab": {
          "base_uri": "https://localhost:8080/",
          "height": 296
        },
        "id": "aNxLaqxEfP_d",
        "outputId": "aad38b97-dfcb-4123-9dcb-96ccdc365027"
      },
      "execution_count": 116,
      "outputs": [
        {
          "output_type": "execute_result",
          "data": {
            "text/plain": [
              "<matplotlib.axes._subplots.AxesSubplot at 0x7fb05e541880>"
            ]
          },
          "metadata": {},
          "execution_count": 116
        },
        {
          "output_type": "display_data",
          "data": {
            "text/plain": [
              "<Figure size 432x288 with 1 Axes>"
            ],
            "image/png": "[encoded data removed]"
          },
          "metadata": {
            "needs_background": "light"
          }
        }
      ]
    },
    {
      "cell_type": "markdown",
      "source": [
        "# Survived by family relations"
      ],
      "metadata": {
        "id": "dxybz52tE6kU"
      }
    },
    {
      "cell_type": "code",
      "source": [
        "sns.countplot(data=df_titanic_results, x=\"SibSp\", hue=\"Survived\")"
      ],
      "metadata": {
        "colab": {
          "base_uri": "https://localhost:8080/",
          "height": 296
        },
        "id": "jmF0QWv1iIbI",
        "outputId": "8b4107cf-2203-4b3c-c45a-93e5a06bb25a"
      },
      "execution_count": 117,
      "outputs": [
        {
          "output_type": "execute_result",
          "data": {
            "text/plain": [
              "<matplotlib.axes._subplots.AxesSubplot at 0x7fb05e419280>"
            ]
          },
          "metadata": {},
          "execution_count": 117
        },
        {
          "output_type": "display_data",
          "data": {
            "text/plain": [
              "<Figure size 432x288 with 1 Axes>"
            ],
            "image/png": "[encoded data removed]"
          },
          "metadata": {
            "needs_background": "light"
          }
        }
      ]
    },
    {
      "cell_type": "code",
      "source": [
        "sns.countplot(data=df_titanic_results, x=\"Parch\", hue=\"Survived\")"
      ],
      "metadata": {
        "colab": {
          "base_uri": "https://localhost:8080/",
          "height": 296
        },
        "id": "3oYBRVz1lzTZ",
        "outputId": "1c9db291-6b21-4301-8807-6a21c96128ba"
      },
      "execution_count": 118,
      "outputs": [
        {
          "output_type": "execute_result",
          "data": {
            "text/plain": [
              "<matplotlib.axes._subplots.AxesSubplot at 0x7fb05e3fa130>"
            ]
          },
          "metadata": {},
          "execution_count": 118
        },
        {
          "output_type": "display_data",
          "data": {
            "text/plain": [
              "<Figure size 432x288 with 1 Axes>"
            ],
            "image/png": "[encoded data removed]"
          },
          "metadata": {
            "needs_background": "light"
          }
        }
      ]
    },
    {
      "cell_type": "markdown",
      "source": [
        "# How many was in each class"
      ],
      "metadata": {
        "id": "8a_57JpcsW31"
      }
    },
    {
      "cell_type": "code",
      "source": [
        "sns.catplot(data=df_titanic_results.sort_values(by=[\"Pclass\"]), x=\"Age\", y=\"Pclass\", hue=\"Sex\",  kind=\"violin\")"
      ],
      "metadata": {
        "colab": {
          "base_uri": "https://localhost:8080/",
          "height": 386
        },
        "id": "2nQKRlNbl2wl",
        "outputId": "9dfb3180-fa8c-461e-80f6-b3c14958d1a8"
      },
      "execution_count": 119,
      "outputs": [
        {
          "output_type": "execute_result",
          "data": {
            "text/plain": [
              "<seaborn.axisgrid.FacetGrid at 0x7fb05e550c10>"
            ]
          },
          "metadata": {},
          "execution_count": 119
        },
        {
          "output_type": "display_data",
          "data": {
            "text/plain": [
              "<Figure size 430.5x360 with 1 Axes>"
            ],
            "image/png": "[encoded data removed]"
          },
          "metadata": {
            "needs_background": "light"
          }
        }
      ]
    }
  ]
}